{
 "cells": [
  {
   "cell_type": "markdown",
   "metadata": {},
   "source": [
    "> **DO NOT EDIT IF INSIDE `caobd_s19` folder** "
   ]
  },
  {
   "cell_type": "markdown",
   "metadata": {},
   "source": [
    "# Assignment 1"
   ]
  },
  {
   "cell_type": "markdown",
   "metadata": {},
   "source": [
    "**Handin in Peergrade**: *Monday*, September 23, 2019, 23:59<br>\n",
    "**Peergrading deadline**: *Friday*, September 27, 2019, 23:59<br>\n",
    "**Peergrading feedback deadline**: *Sunday*, September 29, 2019, 23:59"
   ]
  },
  {
   "cell_type": "markdown",
   "metadata": {},
   "source": [
    "[**Feedback**](http://ulfaslak.com/vent)"
   ]
  },
  {
   "cell_type": "markdown",
   "metadata": {},
   "source": [
    "## Problems"
   ]
  },
  {
   "cell_type": "markdown",
   "metadata": {},
   "source": [
    "### Week 1"
   ]
  },
  {
   "cell_type": "markdown",
   "metadata": {},
   "source": [
    ">**Ex 1.1.10**: `dict`s and `defaultdict`s.\n",
    "1. What is a `defaultdict`? How would you say it is different from a normal Python `dict`?\n",
    "2. Write some code that takes a list of tuples:\n",
    "\n",
    ">        l = [(\"a\", 1), (\"b\", 3), (\"a\", None), (\"c\", False), (\"b\", True), (\"a\", None)]\n",
    "\n",
    ">     And produces a `defaultdict` object\n",
    "\n",
    ">        defaultdict(<type 'list'>, {'a': [1, None, None], 'c': [False], 'b': [3, True]})\n",
    "\n",
    ">*Hint: you can import `defaultdict` from `collections`*"
   ]
  },
  {
   "cell_type": "markdown",
   "metadata": {},
   "source": [
    ">**Ex. 1.2.4**: The URL reveals that the data is from reddit/r/gameofthrones, but can you recover that information from the data? Give your answer by 'keying' into the JSON data using square brackets.\n",
    "\n",
    ">*Hint: 'Keying' is a word i just made up. By it, I mean the following. Consider a JSON object such as:*\n",
    ">\n",
    ">        my_json_obj = {\n",
    ">            'cats': {\n",
    ">                'awesome': ['Missy'],\n",
    ">                'useless': ['Kim', 'Frank', 'Sandy']\n",
    ">            },\n",
    ">            'dogs': {\n",
    ">                'awesome': ['Finn', 'Dolores', 'Fido', 'Casper'],\n",
    ">                'useless': []\n",
    ">            }\n",
    ">        }\n",
    ">\n",
    ">*I can get the list of useless cats by keying into `my_json_obj` like such:*\n",
    ">\n",
    ">        >>> my_json_obj['cats']['useless']\n",
    ">        Out [ ]: ['Kim', 'Frank', 'Sandy']\n",
    ">\n",
    ">*`my_json_obj['cats']` returns the dictionary `{'awesome': ['Missy'], 'useless': ['Kim', 'Frank', 'Sandy']}` and getting '`useless`' from that eventually gives us `['Kim', 'Frank', 'Sandy']`. If any of those list items were a list of a dictionary themselves, we could have kept keying deeper into the structure.*"
   ]
  },
  {
   "cell_type": "markdown",
   "metadata": {},
   "source": [
    ">**Ex 1.2.5**: Write two `for` loops (or list comprehensions for extra street credits) which:\n",
    ">1. Counts the number of spoilers.\n",
    ">2. Only prints headlines that aren't spoilers."
   ]
  },
  {
   "cell_type": "markdown",
   "metadata": {},
   "source": [
    "### Week 2"
   ]
  },
  {
   "cell_type": "markdown",
   "metadata": {},
   "source": [
    ">**Ex. 2.1.2**: The `get_x_y` function below gives you the number of comments versus score for the latest `N` posts on a given `subreddit`.\n",
    "3. In two seperate figures, floating side by side, scatter plot (left) the set of x and y variables for \"blackmirror\" and (right) x and y for \"news\". Remember to transform the data. My figure looks like [this](http://ulfaslak.com/computational_analysis_of_big_data/exer_figures/example_2.2b.png).\n",
    "4. Comment on any differences you see in the trends. Why might number of comments versus post upvotes look different for a TV-show than for world news?\n",
    ">\n",
    ">*Hint: By \"transformation\" I explicitly mean that you map some function onto every value in a list of values. Example: I can apply a square root transformation like `x = [np.sqrt(v) for v in x]`. A faster way to do that, of course, would be just `x = np.sqrt(x)`.*"
   ]
  },
  {
   "cell_type": "code",
   "execution_count": 3,
   "metadata": {
    "ExecuteTime": {
     "end_time": "2019-01-23T21:28:54.941490Z",
     "start_time": "2019-01-23T21:28:44.166852Z"
    }
   },
   "outputs": [
    {
     "name": "stdout",
     "output_type": "stream",
     "text": [
      "Retrieved 25 posts from page \n",
      "Retrieved 25 posts from page t3_d7u3vz\n",
      "Retrieved 25 posts from page t3_d7jr7v\n",
      "Retrieved 25 posts from page t3_d7c5gv\n",
      "Retrieved 25 posts from page t3_d7d0a7\n",
      "Retrieved 25 posts from page t3_d75ht2\n",
      "Retrieved 25 posts from page t3_d6z09u\n",
      "Retrieved 25 posts from page t3_d6wjms\n",
      "Retrieved 25 posts from page t3_d751fn\n",
      "Retrieved 25 posts from page t3_d6horf\n",
      "Retrieved 25 posts from page None\n",
      "Retrieved 25 posts from page t3_d7u3vz\n",
      "Retrieved 25 posts from page t3_d7jr7v\n",
      "Retrieved 25 posts from page t3_d7c5gv\n",
      "Retrieved 25 posts from page t3_d7d0a7\n",
      "Retrieved 25 posts from page t3_d75ht2\n",
      "Retrieved 25 posts from page t3_d6z09u\n",
      "Retrieved 25 posts from page t3_d6wjms\n",
      "Retrieved 25 posts from page t3_d751fn\n",
      "Retrieved 25 posts from page t3_d6horf\n"
     ]
    }
   ],
   "source": [
    "import requests as rq\n",
    "\n",
    "def get_x_y(subreddit, N, count=25):\n",
    "    \n",
    "    def _get_data(subreddit, count, after):\n",
    "        url = \"https://www.reddit.com/r/%s/.json?count=%d&after=%s\" % (subreddit, count, after)\n",
    "        data = rq.get(url, headers = {'User-agent': 'sneakybot'}).json()\n",
    "        print(\"Retrieved %d posts from page %s\" % (count, after))\n",
    "        return data\n",
    "    \n",
    "    after = \"\"\n",
    "\n",
    "    x, y = [], []\n",
    "    for n in range(N//count):\n",
    "        data = _get_data(subreddit, count, after)\n",
    "        for d in data['data']['children']:\n",
    "            x.append(d['data']['num_comments'])\n",
    "            y.append(d['data']['score'])\n",
    "        after = data['data']['after']\n",
    "\n",
    "    return x, y\n",
    "                          \n",
    "x, y = get_x_y(\"news\", 500, count=25)"
   ]
  },
  {
   "cell_type": "code",
   "execution_count": 88,
   "metadata": {},
   "outputs": [
    {
     "name": "stdout",
     "output_type": "stream",
     "text": [
      "Retrieved 25 posts from page \n",
      "Retrieved 25 posts from page t3_d6xi1f\n",
      "Retrieved 25 posts from page t3_d4qvb4\n",
      "Retrieved 25 posts from page t3_d2vg2g\n",
      "Retrieved 25 posts from page t3_d1cilr\n",
      "Retrieved 25 posts from page t3_d007a4\n",
      "Retrieved 25 posts from page t3_cyhwj3\n",
      "Retrieved 25 posts from page t3_cxbf8t\n",
      "Retrieved 25 posts from page t3_cw1wp0\n",
      "Retrieved 25 posts from page t3_cvbuh4\n",
      "Retrieved 25 posts from page t3_cv7tvj\n",
      "Retrieved 25 posts from page t3_cttaou\n",
      "Retrieved 25 posts from page t3_csmxld\n",
      "Retrieved 25 posts from page t3_cra5n7\n",
      "Retrieved 25 posts from page t3_cqmta7\n",
      "Retrieved 25 posts from page t3_cp5ipy\n",
      "Retrieved 25 posts from page t3_co7klh\n",
      "Retrieved 25 posts from page t3_cn04kh\n",
      "Retrieved 25 posts from page t3_cmk6lr\n",
      "Retrieved 25 posts from page t3_cky751\n",
      "Retrieved 25 posts from page \n",
      "Retrieved 25 posts from page t3_d83rgj\n",
      "Retrieved 25 posts from page t3_d7v7he\n",
      "Retrieved 25 posts from page t3_d74ieh\n",
      "Retrieved 25 posts from page t3_d6u7u6\n",
      "Retrieved 25 posts from page t3_d75911\n",
      "Retrieved 25 posts from page t3_d71b56\n",
      "Retrieved 25 posts from page t3_d6vo38\n",
      "Retrieved 25 posts from page t3_d6nz1j\n",
      "Retrieved 25 posts from page t3_d6c6mg\n",
      "Retrieved 25 posts from page None\n",
      "Retrieved 25 posts from page t3_d83rgj\n",
      "Retrieved 25 posts from page t3_d7v7he\n",
      "Retrieved 25 posts from page t3_d74ieh\n",
      "Retrieved 25 posts from page t3_d6u7u6\n",
      "Retrieved 25 posts from page t3_d75911\n",
      "Retrieved 25 posts from page t3_d71b56\n",
      "Retrieved 25 posts from page t3_d6vo38\n",
      "Retrieved 25 posts from page t3_d6nz1j\n",
      "Retrieved 25 posts from page t3_d6c6mg\n"
     ]
    }
   ],
   "source": [
    "# Answer to #3: \n",
    "import matplotlib.pyplot as plt\n",
    "import numpy as np\n",
    "\n",
    "# get data for blackmirror\n",
    "x, y = get_x_y(\"blackmirror\", 500, count=25)\n",
    "\n",
    "# get data for news         \n",
    "x2, y2 = get_x_y(\"news\", 500, count=25)"
   ]
  },
  {
   "cell_type": "code",
   "execution_count": 89,
   "metadata": {},
   "outputs": [
    {
     "name": "stderr",
     "output_type": "stream",
     "text": [
      "/Library/Frameworks/Python.framework/Versions/3.8/lib/python3.7/site-packages/ipykernel_launcher.py:4: RuntimeWarning: divide by zero encountered in log\n",
      "  after removing the cwd from sys.path.\n",
      "/Library/Frameworks/Python.framework/Versions/3.8/lib/python3.7/site-packages/ipykernel_launcher.py:5: RuntimeWarning: divide by zero encountered in log\n",
      "  \"\"\"\n",
      "/Library/Frameworks/Python.framework/Versions/3.8/lib/python3.7/site-packages/ipykernel_launcher.py:13: RuntimeWarning: divide by zero encountered in log\n",
      "  del sys.path[0]\n",
      "/Library/Frameworks/Python.framework/Versions/3.8/lib/python3.7/site-packages/ipykernel_launcher.py:14: RuntimeWarning: divide by zero encountered in log\n",
      "  \n"
     ]
    },
    {
     "data": {
      "image/png": "[encoded data removed]",
      "text/plain": [
       "<Figure size 2160x720 with 2 Axes>"
      ]
     },
     "metadata": {
      "needs_background": "light"
     },
     "output_type": "display_data"
    }
   ],
   "source": [
    "# logarithmic transformation for news and plot\n",
    "plt.figure(figsize=(30,10))\n",
    "plt.subplot(1,2,1)\n",
    "x2t = np.log(x2)\n",
    "y2t = np.log(y2)\n",
    "plt.scatter(x2t,y2t, c = \"green\")\n",
    "plt.title(\"News Subreddit\")\n",
    "plt.xlabel(\"log(Comments)\")\n",
    "plt.ylabel(\"log(Upvotes)\")\n",
    "\n",
    "# logarithmic transformation for blackmirror and plot\n",
    "plt.subplot(1,2,2)\n",
    "xt = np.log(x)\n",
    "yt = np.log(y)\n",
    "plt.scatter(xt,yt)\n",
    "plt.title(\"Blackmirror Subreddit\")\n",
    "plt.xlabel(\"log(Comments)\") \n",
    "plt.ylabel(\"log(Upvotes)\")\n",
    "\n",
    "# show the plots side by side\n",
    "plt.subplots_adjust(wspace = .25, hspace = .5)\n",
    "plt.show()"
   ]
  },
  {
   "cell_type": "code",
   "execution_count": 90,
   "metadata": {},
   "outputs": [],
   "source": [
    "# Answer to #4:\n",
    "\n",
    "# One possible answer is that people are probably more likely/comfortable commenting and upvoting \n",
    "# on a tv show like blackmirror versus a controversial topic. "
   ]
  },
  {
   "cell_type": "markdown",
   "metadata": {},
   "source": [
    ">**Ex. 2.2.4**: In Data Science, we often think of matrices as (usually two-dimensional) containers for data. Let's say we collect $N=500$ data points, that each has $M=10$ features. We can loslessly represent that data using an $N \\times M$ matrix, that is a matrix that has a row for each datapoint and a column for each feature. In fact, let's just go ahead and do that by altering the code of the `get_x_y` function from before a little bit.\n",
    ">\n",
    ">*Note: `numpy` has an object type called `matrix` but we rarely use that. Instead, we represent matrices as a `numpy` object type called `array`.*"
   ]
  },
  {
   "cell_type": "code",
   "execution_count": 91,
   "metadata": {
    "ExecuteTime": {
     "end_time": "2019-01-18T07:49:55.947679Z",
     "start_time": "2019-01-18T07:49:46.008308Z"
    }
   },
   "outputs": [
    {
     "name": "stdout",
     "output_type": "stream",
     "text": [
      "Retrieved 25 posts from page \n",
      "Retrieved 25 posts from page t3_d83rgj\n",
      "Retrieved 25 posts from page t3_d7v7he\n",
      "Retrieved 25 posts from page t3_d74ieh\n",
      "Retrieved 25 posts from page t3_d6u7u6\n",
      "Retrieved 25 posts from page t3_d75911\n",
      "Retrieved 25 posts from page t3_d71b56\n",
      "Retrieved 25 posts from page t3_d6vo38\n",
      "Retrieved 25 posts from page t3_d6nz1j\n",
      "Retrieved 25 posts from page t3_d6c6mg\n",
      "Retrieved 25 posts from page None\n",
      "Retrieved 25 posts from page t3_d83rgj\n",
      "Retrieved 25 posts from page t3_d7v7he\n",
      "Retrieved 25 posts from page t3_d74ieh\n",
      "Retrieved 25 posts from page t3_d6u7u6\n",
      "Retrieved 25 posts from page t3_d75911\n",
      "Retrieved 25 posts from page t3_d71b56\n",
      "Retrieved 25 posts from page t3_d6vo38\n",
      "Retrieved 25 posts from page t3_d6nz1j\n",
      "Retrieved 25 posts from page t3_d6c6mg\n"
     ]
    }
   ],
   "source": [
    "def get_data_matrix(subreddit, N, count=25):\n",
    "    \n",
    "    def _get_data(subreddit, count, after):\n",
    "        url = \"https://www.reddit.com/r/%s/.json?count=%d&after=%s\" % (subreddit, count, after)\n",
    "        data = rq.get(url, headers = {'User-agent': 'sneakybot'}).json()\n",
    "        print(\"Retrieved %d posts from page %s\" % (count, after))\n",
    "        return data\n",
    "    \n",
    "    after = \"\"\n",
    "\n",
    "    X = []\n",
    "    for n in range(N//count):\n",
    "        data = _get_data(subreddit, count, after)\n",
    "        for d in data['data']['children']:\n",
    "            X.append([\n",
    "                int(d['data']['num_comments']),\n",
    "                int(d['data']['score']),\n",
    "                int(d['data']['ups']),\n",
    "                int(d['data']['downs']),\n",
    "                len(d['data']['selftext']),\n",
    "                len(d['data']['title']),\n",
    "                int(d['data']['is_original_content']),\n",
    "                int(d['data']['spoiler']),\n",
    "                int(d['data']['num_crossposts']),\n",
    "                int(d['data']['is_video'])\n",
    "            ])\n",
    "        after = data['data']['after']\n",
    "\n",
    "    return np.array(X)\n",
    "                          \n",
    "X = get_data_matrix(\"news\", 500, count=25)"
   ]
  },
  {
   "cell_type": "code",
   "execution_count": 92,
   "metadata": {
    "ExecuteTime": {
     "end_time": "2019-01-18T07:49:57.572095Z",
     "start_time": "2019-01-18T07:49:57.567762Z"
    }
   },
   "outputs": [
    {
     "data": {
      "text/plain": [
       "array([[  1384,  10127,  10127, ...,      0,      1,      0],\n",
       "       [  1772,  30422,  30422, ...,      0,      6,      0],\n",
       "       [   126,   1208,   1208, ...,      0,      1,      0],\n",
       "       ...,\n",
       "       [   104,    850,    850, ...,      0,      1,      0],\n",
       "       [    18,     75,     75, ...,      0,      0,      0],\n",
       "       [ 33670, 163363, 163363, ...,      0,     49,      0]])"
      ]
     },
     "execution_count": 92,
     "metadata": {},
     "output_type": "execute_result"
    }
   ],
   "source": [
    "X"
   ]
  },
  {
   "cell_type": "markdown",
   "metadata": {},
   "source": [
    ">Here are the data, but how can we summarize them? Let's start by finding the so-called *covariance matrix*.\n",
    "1. Use the `np.cov` method on `X` to get its $10 \\times 10$ covariance matrix.\n",
    "2. Do you notice any characteristics of this matrix that are interesting? Comment.\n",
    "3. Plot the distribution of covariances, e.g. using a histogram."
   ]
  },
  {
   "cell_type": "code",
   "execution_count": 93,
   "metadata": {},
   "outputs": [
    {
     "data": {
      "text/plain": [
       "array([[1.77615839e+07, 5.36050909e+07, 2.10791774e+06, ...,\n",
       "        1.45840906e+06, 1.13820200e+05, 2.85810101e+08],\n",
       "       [5.36050909e+07, 1.62341690e+08, 6.37174850e+06, ...,\n",
       "        4.40619683e+06, 3.42597667e+05, 8.59899646e+08],\n",
       "       [2.10791774e+06, 6.37174850e+06, 2.50725344e+05, ...,\n",
       "        1.74040389e+05, 1.39348222e+04, 3.38589313e+07],\n",
       "       ...,\n",
       "       [1.45840906e+06, 4.40619683e+06, 1.74040389e+05, ...,\n",
       "        1.21790500e+05, 1.03512222e+04, 2.34165314e+07],\n",
       "       [1.13820200e+05, 3.42597667e+05, 1.39348222e+04, ...,\n",
       "        1.03512222e+04, 1.24373333e+03, 1.82123084e+06],\n",
       "       [2.85810101e+08, 8.59899646e+08, 3.38589313e+07, ...,\n",
       "        2.34165314e+07, 1.82123084e+06, 4.61241390e+09]])"
      ]
     },
     "execution_count": 93,
     "metadata": {},
     "output_type": "execute_result"
    }
   ],
   "source": [
    "# Answer to #1: \n",
    "np.cov(X)"
   ]
  },
  {
   "cell_type": "code",
   "execution_count": null,
   "metadata": {},
   "outputs": [],
   "source": [
    "# Answer to #2: \n",
    "# The matrix is symmetric and always positive."
   ]
  },
  {
   "cell_type": "code",
   "execution_count": 94,
   "metadata": {},
   "outputs": [
    {
     "data": {
      "image/png": "[encoded data removed]",
      "text/plain": [
       "<Figure size 432x288 with 1 Axes>"
      ]
     },
     "metadata": {
      "needs_background": "light"
     },
     "output_type": "display_data"
    }
   ],
   "source": [
    "# Answer to #3: \n",
    "plt.hist(np.triu(np.cov(X))) # only showing the lower triangle values since the matrix is symmetrical \n",
    "plt.show()"
   ]
  },
  {
   "cell_type": "markdown",
   "metadata": {},
   "source": [
    ">**Ex. 2.2.5**: There's another use of the covariance matrix, other than just learning how features co-vary. In fact, it turns out that the *eigenvectors* of the covariance matrix are a set of mutually orthogonal vectors, that point in the directions of greatest variance in the data. The eigenvector with the greatest *eigenvalue* points along the direction of greatest variation, and so on. This is pretty neat, because if we know along which axes the data is most stretched, we can figure out how best to project it when visualizing it in 2D as a scatter plot! This whole procedure has a name: **Principal Component Analysis** (PCA) and it was invented by Karl Pearson in 1901. It belongs to a powerful class of linear algebra methods called **Matrix Factorization** methods. Ok, so rather than spending too much time on the math of PCA, let's just use the `sklearn` implementation and fit a PCA on `X`."
   ]
  },
  {
   "cell_type": "code",
   "execution_count": 60,
   "metadata": {
    "ExecuteTime": {
     "end_time": "2019-01-18T08:30:52.583430Z",
     "start_time": "2019-01-18T08:30:52.577358Z"
    }
   },
   "outputs": [
    {
     "data": {
      "text/plain": [
       "PCA(copy=True, iterated_power='auto', n_components=10, random_state=None,\n",
       "    svd_solver='auto', tol=0.0, whiten=False)"
      ]
     },
     "execution_count": 60,
     "metadata": {},
     "output_type": "execute_result"
    }
   ],
   "source": [
    "from sklearn.decomposition import PCA\n",
    "pca = PCA(n_components=10)\n",
    "pca.fit(X)"
   ]
  },
  {
   "cell_type": "markdown",
   "metadata": {},
   "source": [
    ">1. Explain what the matrix you get when you call `pca.components_` means.\n",
    "2. Explain what the vector you get when you call `pca.explained_variance_ratio_` means. What insights about our data can we extract from this?\n",
    "3. Transform X using the PCA you just fitted, and scatter plot the first two dimensions of the transformed data. Please comment on what you see.\n",
    "3. Scatter plot dimensions 1 and 3 against each other. See something interesting now? What would be a way to figure out what the clusters represent?"
   ]
  },
  {
   "cell_type": "code",
   "execution_count": 61,
   "metadata": {},
   "outputs": [],
   "source": [
    "import pandas as pd"
   ]
  },
  {
   "cell_type": "code",
   "execution_count": 62,
   "metadata": {},
   "outputs": [
    {
     "name": "stdout",
     "output_type": "stream",
     "text": [
      "[[ 5.45551922e-02  7.06053693e-01  7.06053693e-01 -0.00000000e+00\n",
      "  -0.00000000e+00  2.35528800e-04 -0.00000000e+00 -0.00000000e+00\n",
      "   2.03680916e-04 -0.00000000e+00]\n",
      " [ 9.98500636e-01 -3.85756195e-02 -3.85756195e-02 -0.00000000e+00\n",
      "  -0.00000000e+00 -3.93186118e-03 -0.00000000e+00 -0.00000000e+00\n",
      "   2.20512165e-03 -0.00000000e+00]\n",
      " [ 3.90068387e-03 -3.18296634e-04 -3.18296634e-04 -0.00000000e+00\n",
      "  -0.00000000e+00  9.99976540e-01 -0.00000000e+00 -0.00000000e+00\n",
      "   5.61267731e-03 -0.00000000e+00]\n",
      " [-2.23486118e-03 -5.69602702e-05 -5.69602701e-05 -0.00000000e+00\n",
      "  -0.00000000e+00 -5.60402539e-03 -0.00000000e+00 -0.00000000e+00\n",
      "   9.99981797e-01 -0.00000000e+00]\n",
      " [ 4.60419592e-15  7.07106781e-01 -7.07106781e-01 -9.60737563e-06\n",
      "  -1.11022302e-16  4.84889269e-16 -0.00000000e+00 -0.00000000e+00\n",
      "   1.58059216e-14 -0.00000000e+00]\n",
      " [ 1.79171485e-19 -6.79344046e-06  6.79344046e-06 -1.00000000e+00\n",
      "   3.11967452e-14  5.65658640e-17 -0.00000000e+00 -0.00000000e+00\n",
      "  -1.37264230e-18 -0.00000000e+00]\n",
      " [ 2.33125623e-31 -2.46313286e-17  2.46313286e-17  3.12249415e-14\n",
      "   1.00000000e+00 -3.47097171e-30  0.00000000e+00  0.00000000e+00\n",
      "  -1.84464346e-28  0.00000000e+00]\n",
      " [ 0.00000000e+00  0.00000000e+00  0.00000000e+00  0.00000000e+00\n",
      "   0.00000000e+00  0.00000000e+00  0.00000000e+00  0.00000000e+00\n",
      "   0.00000000e+00  1.00000000e+00]\n",
      " [ 0.00000000e+00  0.00000000e+00  0.00000000e+00  0.00000000e+00\n",
      "   0.00000000e+00  0.00000000e+00 -1.00000000e+00  0.00000000e+00\n",
      "   0.00000000e+00  0.00000000e+00]\n",
      " [-0.00000000e+00 -0.00000000e+00 -0.00000000e+00 -0.00000000e+00\n",
      "  -0.00000000e+00 -0.00000000e+00 -0.00000000e+00 -1.00000000e+00\n",
      "  -0.00000000e+00 -0.00000000e+00]]\n"
     ]
    }
   ],
   "source": [
    "# Answer to #1: \n",
    "print(pca.components_)\n",
    "\n",
    "# This matrix tells us the correlation between the components and the original variables. \n",
    "# We want to find the most highly correlated components."
   ]
  },
  {
   "cell_type": "code",
   "execution_count": 63,
   "metadata": {},
   "outputs": [
    {
     "name": "stdout",
     "output_type": "stream",
     "text": [
      "[9.99384036e-01 6.14068207e-04 1.84934441e-06 4.63246131e-08\n",
      " 4.37595655e-33 8.98132291e-44 3.81359140e-69 0.00000000e+00\n",
      " 0.00000000e+00 0.00000000e+00]\n"
     ]
    }
   ],
   "source": [
    "# Answer to #2:\n",
    "print(pca.explained_variance_ratio_)\n",
    "\n",
    "# This vector tells us how much of the varience can be explained by each of our principle components."
   ]
  },
  {
   "cell_type": "code",
   "execution_count": 68,
   "metadata": {},
   "outputs": [
    {
     "name": "stdout",
     "output_type": "stream",
     "text": [
      "[ 3973.47695896 36866.08225359 -3942.20954011 ... -4927.71487031\n",
      "   356.41029817 -5017.55664242]\n",
      "[ 461.47674001 -628.53612444  -28.36496786 ...  -49.64813195  387.63910536\n",
      "  -60.66138568]\n"
     ]
    },
    {
     "data": {
      "image/png": "[encoded data removed]",
      "text/plain": [
       "<Figure size 432x288 with 1 Axes>"
      ]
     },
     "metadata": {
      "needs_background": "light"
     },
     "output_type": "display_data"
    }
   ],
   "source": [
    "# Answer to #3:\n",
    "transformedX = pca.fit_transform(X)\n",
    "dim1 = transformedX[:,0] # first column of X matrix, first dimension\n",
    "dim2 = transformedX[:,1] # second column of X matrix, second dimension\n",
    "plt.scatter(dim1, dim2)\n",
    "plt.show()\n",
    "\n",
    "# The resulting plot shows a cone like shape with a lot of data points concentrated around 0. "
   ]
  },
  {
   "cell_type": "code",
   "execution_count": 69,
   "metadata": {},
   "outputs": [
    {
     "name": "stdout",
     "output_type": "stream",
     "text": [
      "[ 10.25030032 -10.77852131  -1.80173617 ...   2.34805102  25.8224252\n",
      " -23.67364458]\n"
     ]
    },
    {
     "data": {
      "image/png": "[encoded data removed]",
      "text/plain": [
       "<Figure size 432x288 with 1 Axes>"
      ]
     },
     "metadata": {
      "needs_background": "light"
     },
     "output_type": "display_data"
    }
   ],
   "source": [
    "# Answer to #4:\n",
    "\n",
    "dim3 = transformedX[:,2] # third column of X matrix, third dimension\n",
    "plt.scatter(dim1,dim3)\n",
    "plt.show()\n",
    "\n",
    "# There's a big cluster towards the far left of the graph and \n",
    "# you could also say there are additional clusters further to the right. To figure out what these clusters represent\n",
    "# we could fit the vectors or components to the graph to see which component(s) explains what cluster. "
   ]
  },
  {
   "cell_type": "markdown",
   "metadata": {},
   "source": [
    ">**Ex. 2.3.4**: People often use the p-value to gauge the *significance* of a given result. If the p-value of a result is low, the result is significant (which is good) and vice versa. Intuitively, the p-value measures the probabilty that a result *could have been obtained at random*, so you can imagine that if you find that the p-value for some result is HIGH (close to one), regardless of how cool it is, people will not care because, well, you just got lucky with that measurement, didn't you? I created two lists for you below, and you are going to find out if they are *significantly* correlated. You will be using the significance threshold 0.05 (which is arbitrary, disputed, yet very standard in the literature)."
   ]
  },
  {
   "cell_type": "code",
   "execution_count": 70,
   "metadata": {
    "ExecuteTime": {
     "end_time": "2019-01-24T09:50:21.670665Z",
     "start_time": "2019-01-24T09:50:21.666647Z"
    }
   },
   "outputs": [],
   "source": [
    "# You can incresae this to make the data more noisy (but let it be 4 for now)\n",
    "noise_level = 4\n",
    "\n",
    "# I'm just seeding the random number generator here, so we can compare results\n",
    "np.random.seed(0)\n",
    "\n",
    "# This is your data\n",
    "x = np.arange(0, 20) + np.random.normal(size=20) * noise_level\n",
    "y = np.arange(0, 20) + np.random.normal(size=20) * noise_level"
   ]
  },
  {
   "cell_type": "code",
   "execution_count": 87,
   "metadata": {
    "ExecuteTime": {
     "end_time": "2019-01-24T09:55:18.924607Z",
     "start_time": "2019-01-24T09:55:18.922022Z"
    }
   },
   "outputs": [
    {
     "data": {
      "image/png": "[encoded data removed]",
      "text/plain": [
       "<Figure size 432x288 with 1 Axes>"
      ]
     },
     "metadata": {
      "needs_background": "light"
     },
     "output_type": "display_data"
    }
   ],
   "source": [
    "# Why not make a scatter plot here, to see what you're working with?\n",
    "plt.scatter(x,y)\n",
    "plt.show()"
   ]
  },
  {
   "cell_type": "markdown",
   "metadata": {},
   "source": [
    ">4. Plot the p-value as a function of `noise_level` (let `noise_level` vary between 1 and 50), so we can see how our result becomes less and less significant as we increase the noise. Two questions: (1) at which value of `noise_level` does the correlation become insignificant, and (2) which p-value does the curve saturate at for large `noise_level`?"
   ]
  },
  {
   "cell_type": "code",
   "execution_count": 81,
   "metadata": {},
   "outputs": [],
   "source": [
    "import scipy.stats as stats\n",
    "import random"
   ]
  },
  {
   "cell_type": "code",
   "execution_count": 86,
   "metadata": {},
   "outputs": [
    {
     "data": {
      "image/png": "[encoded data removed]",
      "text/plain": [
       "<Figure size 432x288 with 1 Axes>"
      ]
     },
     "metadata": {
      "needs_background": "light"
     },
     "output_type": "display_data"
    }
   ],
   "source": [
    "# Answer to #4: \n",
    "\n",
    "# for 1000 times, randomize the noise level between 1-50\n",
    "pvalues = []\n",
    "noise_levels = []\n",
    "for x in range(1000):\n",
    "    noise_level = random.randint(1,50)\n",
    "    noise_levels.append(noise_level)\n",
    "    x = np.arange(0, 20) + np.random.normal(size=20) * noise_level\n",
    "    y = np.arange(0, 20) + np.random.normal(size=20) * noise_level\n",
    "    ccoef, pvalue = stats.pearsonr(x, y) # returns correlation coefficient and p-value\n",
    "    pvalues.append(pvalue)\n",
    "\n",
    "plt.scatter(pvalues, noise_levels)\n",
    "plt.show()\n",
    "\n",
    "# Question 1: around 4 for noise_level\n",
    "# Question 2: around the .05 mark "
   ]
  },
  {
   "cell_type": "markdown",
   "metadata": {},
   "source": [
    "### Week 3"
   ]
  },
  {
   "cell_type": "markdown",
   "metadata": {
    "ExecuteTime": {
     "end_time": "2017-08-23T14:01:10.834257Z",
     "start_time": "2017-08-23T14:01:10.826472Z"
    }
   },
   "source": [
    ">**Ex. 3.1.1**: From the Wikipedia API, get a list of all Marvel superheroes and another list of all Marvel supervillains. Use 'Category:Marvel_Comics_supervillains' and 'Category:Marvel_Comics_superheroes' to get the characters in each category.\n",
    "1. How many superheroes are there? How many supervillains?\n",
    "2. How many characters are both heroes and villains? What is the Jaccard similarity between the two groups?\n",
    "\n",
    ">*Hint: Google something like \"get list all pages in category wikimedia api\" if you're struggling with the query.*"
   ]
  },
  {
   "cell_type": "markdown",
   "metadata": {},
   "source": [
    ">**Ex. 3.2.1**: Extract the length of the page of each character, and plot the distribution of this variable for each class (heroes/villains/ambiguous). Can you say anything about the popularity of characters in the Marvel universe based on your visualization?\n",
    "\n",
    ">*Hint: The simplest thing is to make a probability mass function, i.e. a normalized histogram. Use `plt.hist` on a list of page lengths, with the argument `density=True`. Other distribution plots are fine too, though.*"
   ]
  },
  {
   "cell_type": "markdown",
   "metadata": {},
   "source": [
    ">**Ex. 3.2.2**: Find the 10 characters from each class with the longest Wikipedia pages. Visualize their page lengths with bar charts. Comment on the result."
   ]
  },
  {
   "cell_type": "markdown",
   "metadata": {},
   "source": [
    ">**Ex. 3.2.3**: We are interested in knowing if there is a time-trend in the debut of characters.\n",
    "* Extract into three lists, debut years of heroes, villains, and ambiguous characters.\n",
    "* Do all pages have a debut year? Do some have multiple? How do you handle these inconsistencies?\n",
    "* For each class, visualize the amount of characters introduced over time. You choose how you want to visualize this data, but please comment on your choice. Also comment on the outcome of your analysis.\n",
    "\n",
    ">*Hint: The debut year is given on the debut row in the info table of a character's Wiki-page. There are many ways that you can extract this variable. You should try to have a go at it yourself, but if you are short on time, you can use this horribly ugly regular expression code:*\n",
    "\n",
    ">*`re.findall(r\"\\d{4}\\)\", re.findall(r\"debut.+?\\n\", markup_text)[0])[0][:-1]`*"
   ]
  }
 ],
 "metadata": {
  "kernelspec": {
   "display_name": "Python 3",
   "language": "python",
   "name": "python3"
  },
  "language_info": {
   "codemirror_mode": {
    "name": "ipython",
    "version": 3
   },
   "file_extension": ".py",
   "mimetype": "text/x-python",
   "name": "python",
   "nbconvert_exporter": "python",
   "pygments_lexer": "ipython3",
   "version": "3.7.4"
  },
  "toc": {
   "base_numbering": 1,
   "nav_menu": {},
   "number_sections": true,
   "sideBar": true,
   "skip_h1_title": false,
   "title_cell": "Table of Contents",
   "title_sidebar": "Contents",
   "toc_cell": false,
   "toc_position": {},
   "toc_section_display": true,
   "toc_window_display": false
  },
  "varInspector": {
   "cols": {
    "lenName": 16,
    "lenType": 16,
    "lenVar": 40
   },
   "kernels_config": {
    "python": {
     "delete_cmd_postfix": "",
     "delete_cmd_prefix": "del ",
     "library": "var_list.py",
     "varRefreshCmd": "print(var_dic_list())"
    },
    "r": {
     "delete_cmd_postfix": ") ",
     "delete_cmd_prefix": "rm(",
     "library": "var_list.r",
     "varRefreshCmd": "cat(var_dic_list()) "
    }
   },
   "types_to_exclude": [
    "module",
    "function",
    "builtin_function_or_method",
    "instance",
    "_Feature"
   ],
   "window_display": false
  }
 },
 "nbformat": 4,
 "nbformat_minor": 2
}
