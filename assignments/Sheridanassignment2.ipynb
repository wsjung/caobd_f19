{
 "cells": [
  {
   "cell_type": "markdown",
   "metadata": {},
   "source": [
    "> **DO NOT EDIT IF INSIDE `caobd_s19` folder** "
   ]
  },
  {
   "cell_type": "markdown",
   "metadata": {},
   "source": [
    "# Assignment 2"
   ]
  },
  {
   "cell_type": "markdown",
   "metadata": {},
   "source": [
    "**Handin in Peergrade**: *Monday*, October 21, 2019, 23:59<br>\n",
    "**Peergrading deadline**: *Friday*, October 25, 2019, 23:59<br>\n",
    "**Peergrading feedback deadline**: *Sunday*, October 27, 2019, 23:59"
   ]
  },
  {
   "cell_type": "markdown",
   "metadata": {},
   "source": [
    "[**Feedback**](http://ulfaslak.com/vent)"
   ]
  },
  {
   "cell_type": "markdown",
   "metadata": {},
   "source": [
    "## Problems"
   ]
  },
  {
   "cell_type": "markdown",
   "metadata": {},
   "source": [
    "### Week 4"
   ]
  },
  {
   "cell_type": "markdown",
   "metadata": {},
   "source": [
    "> **Ex. 4.3.2**: Implement cross validation. The performance of a classifier is strongly dependent on the amount of data it is trained on. In Ex. 4.3.1 you train it on only half of the data and test it on the other half. If you rerun that code multiple times, with random 50/50 partitions, you are gonna see a lot of uncertainty in performance. Cross validation solves this problem by training on a larger subset of the data and testing on a smaller one, and taking the average performance over K-folds of this process.\n",
    "1. Implement cross validation over $K=10$ folds. For each fold you must record the training and test accuracies. In the end, visualize the distributions of test- and training accuracy as histograms in the same plot. It's important that you comment on the result."
   ]
  },
  {
   "cell_type": "markdown",
   "metadata": {},
   "source": [
    "### Answer to 4.3.2:"
   ]
  },
  {
   "cell_type": "code",
   "execution_count": 2,
   "metadata": {},
   "outputs": [],
   "source": [
    "import re, os\n",
    "\n",
    "def get_alliances(char, faction=None):\n",
    "    \"\"\"Return list of alliances for Marvel character.\"\"\"\n",
    "    \n",
    "    if faction is None:\n",
    "        for faction in [\"heroes\", \"ambiguous\", \"villains\"]:\n",
    "            faction_chars = [c[:-4] for c in os.listdir(\"../data/%s\" % faction)]\n",
    "            if char in faction_chars:\n",
    "                break\n",
    "    \n",
    "    # Load character markup\n",
    "    with open(\"../data/%s/%s.txt\" % (faction, char)) as fp:\n",
    "        markup = fp.read()\n",
    "\n",
    "    # Get alliance field\n",
    "    alliances_field = re.findall(r\"alliances[\\w\\W]+?\\|.+=\", markup)\n",
    "    if alliances_field == []:\n",
    "        return []\n",
    "\n",
    "    # Extract teams from alliance field\n",
    "    return [t[2:-1] for t in re.findall(r\"\\[\\[.+?[\\]\\|]\", alliances_field[0][10:])]"
   ]
  },
  {
   "cell_type": "code",
   "execution_count": 3,
   "metadata": {},
   "outputs": [],
   "source": [
    "def all_teams(): \n",
    "    \n",
    "    # list to save the teams found\n",
    "    all_teams = []\n",
    "    \n",
    "    # go through the villain folder CURRENTLY ONLY DOES IT FOR VILLAINS\n",
    "    directory = \"../data/villains/\"\n",
    "    \n",
    "    for filename in os.listdir(directory):\n",
    "        if filename.endswith(\".txt\"): \n",
    "            \n",
    "            # open one of the markup files in the folder\n",
    "            with open(os.path.join(directory, filename)) as f:\n",
    "                content = f.read()\n",
    "                \n",
    "                list_of_filenames = []\n",
    "                name = filename.split(\".txt\")[0]\n",
    "                \n",
    "                list_of_filenames.append(name)\n",
    "                \n",
    "                for names in list_of_filenames:\n",
    "                    alliances = get_alliances(names)\n",
    "                    \n",
    "                    # check to see if alliance is in the all teams group already \n",
    "                    for alliance in alliances:\n",
    "                         if alliance not in all_teams:\n",
    "                            all_teams.append(alliance)\n",
    "                            \n",
    "     # go through the villain folder CURRENTLY ONLY DOES IT FOR VILLAINS\n",
    "    directory = \"../data/heroes/\"\n",
    "    \n",
    "    for filename in os.listdir(directory):\n",
    "        if filename.endswith(\".txt\"): \n",
    "            \n",
    "            # open one of the markup files in the folder\n",
    "            with open(os.path.join(directory, filename)) as f:\n",
    "                content = f.read()\n",
    "                \n",
    "                list_of_filenames = []\n",
    "                name = filename.split(\".txt\")[0]\n",
    "                \n",
    "                list_of_filenames.append(name)\n",
    "\n",
    "                for names in list_of_filenames:\n",
    "                    alliances = get_alliances(names)\n",
    "                    \n",
    "                    # check to see if alliance is in the all teams group already \n",
    "                    for alliance in alliances:\n",
    "                         if alliance not in all_teams:\n",
    "                            all_teams.append(alliance)\n",
    "                            \n",
    "     # go through the villain folder CURRENTLY ONLY DOES IT FOR VILLAINS\n",
    "    directory = \"../data/ambiguous/\"\n",
    "    \n",
    "    for filename in os.listdir(directory):\n",
    "        if filename.endswith(\".txt\"): \n",
    "            \n",
    "            # open one of the markup files in the folder\n",
    "            with open(os.path.join(directory, filename)) as f:\n",
    "                content = f.read()\n",
    "                \n",
    "                list_of_filenames = []\n",
    "                name = filename.split(\".txt\")[0]\n",
    "                \n",
    "                list_of_filenames.append(name)\n",
    "                \n",
    "                for names in list_of_filenames:\n",
    "                    alliances = get_alliances(names)\n",
    "                    \n",
    "                    # check to see if alliance is in the all teams group already \n",
    "                    for alliance in alliances:\n",
    "                         if alliance not in all_teams:\n",
    "                            all_teams.append(alliance)                       \n",
    "    \n",
    "    \n",
    "    \n",
    "    \n",
    "    return all_teams"
   ]
  },
  {
   "cell_type": "code",
   "execution_count": 4,
   "metadata": {},
   "outputs": [],
   "source": [
    "all_teams = all_teams() # get all the teams "
   ]
  },
  {
   "cell_type": "code",
   "execution_count": 5,
   "metadata": {},
   "outputs": [],
   "source": [
    "def get_teams_vector(char, faction=None, verbose=True):\n",
    "    char_alliances = get_alliances(char)\n",
    "    tmp = [1 if team in char_alliances else 0 for team in all_teams]\n",
    "    \n",
    "    if verbose:\n",
    "        print(sum(tmp))\n",
    "        \n",
    "    return tmp"
   ]
  },
  {
   "cell_type": "code",
   "execution_count": 6,
   "metadata": {},
   "outputs": [],
   "source": [
    "import numpy as np\n",
    "\n",
    "def get_alliance_matrix():\n",
    "    targ_array = []\n",
    "    sort_vec = []\n",
    "    team_matrix = []\n",
    "    \n",
    "    for faction, val in [[\"heroes\", 1], [\"villains\",0]]: # for each faction\n",
    "        for char in os.listdir(\"../data/%s\" % faction): # for each character in faction\n",
    "            char = char[:-4] # remove .txt file extension\n",
    "            \n",
    "            team_vec = get_teams_vector(char, verbose=False)\n",
    "            if sum(team_vec) != 0:\n",
    "                team_matrix.append(team_vec)\n",
    "                targ_array.append([char, val]) # target array\n",
    "                     \n",
    "    # sort the matrix by character name\n",
    "    team_matrix = np.matrix(team_matrix)\n",
    "    team_matrix = team_matrix[np.argsort(targ_array, axis=0)[:,0]]\n",
    "    \n",
    "    # sort target array\n",
    "    targ_array.sort()\n",
    "    \n",
    "    return targ_array, team_matrix, sort_vec"
   ]
  },
  {
   "cell_type": "code",
   "execution_count": 7,
   "metadata": {},
   "outputs": [],
   "source": [
    "y_ta, X_ta, sort_vec  = get_alliance_matrix() # X_ta is alliance matrix, y_ta is target array\n",
    "\n",
    "target_values = []\n",
    "\n",
    "for i in range(1096): \n",
    "    target_values.append(y_ta[i][1])"
   ]
  },
  {
   "cell_type": "code",
   "execution_count": 8,
   "metadata": {},
   "outputs": [
    {
     "data": {
      "text/plain": [
       "BernoulliNB(alpha=1.0, binarize=0.0, class_prior=None, fit_prior=True)"
      ]
     },
     "execution_count": 8,
     "metadata": {},
     "output_type": "execute_result"
    }
   ],
   "source": [
    "from sklearn.naive_bayes import BernoulliNB\n",
    "\n",
    "model = BernoulliNB()\n",
    "model.fit(X_ta, target_values)  # <--- This is the training/fitting/learning step"
   ]
  },
  {
   "cell_type": "markdown",
   "metadata": {},
   "source": [
    "#### Here were are implementing cross validation:"
   ]
  },
  {
   "cell_type": "code",
   "execution_count": 9,
   "metadata": {},
   "outputs": [],
   "source": [
    "from sklearn.model_selection import cross_validate\n",
    "\n",
    "t_array = np.asarray(target_values)\n",
    "scores = cross_validate(model, X_ta, target_values, cv=10, return_train_score=True)"
   ]
  },
  {
   "cell_type": "code",
   "execution_count": 10,
   "metadata": {},
   "outputs": [],
   "source": [
    "test_score = scores['test_score']\n",
    "train_score = scores['train_score']"
   ]
  },
  {
   "cell_type": "markdown",
   "metadata": {},
   "source": [
    "#### Here is the histogram of the test and training accuracy distributions:"
   ]
  },
  {
   "cell_type": "code",
   "execution_count": 11,
   "metadata": {},
   "outputs": [
    {
     "data": {
      "image/png": "[encoded data removed]",
      "text/plain": [
       "<Figure size 864x432 with 1 Axes>"
      ]
     },
     "metadata": {
      "needs_background": "light"
     },
     "output_type": "display_data"
    }
   ],
   "source": [
    "import matplotlib.pyplot as plt\n",
    "\n",
    "plt.figure(figsize=(12,6))\n",
    "plt.hist([test_score, train_score], label=[\"Test Score\", \"Training Score\"])\n",
    "plt.xlabel(\"Accuracy\")\n",
    "plt.ylabel(\"Frequency\")\n",
    "plt.title(\"Distributions for Testing/Training Accuracies\")\n",
    "plt.legend()\n",
    "plt.show()"
   ]
  },
  {
   "cell_type": "markdown",
   "metadata": {},
   "source": [
    "#### Comments: \n",
    "Pretty good, maybe a bit of overfitting since there's high accuracy for training v. testing sets. "
   ]
  },
  {
   "cell_type": "markdown",
   "metadata": {},
   "source": [
    ">**Ex. 4.4.1**: Let's put our classifier to use!\n",
    "* Retrain your model on all of your data.\n",
    "* Create a team alliance representation of the ambiguous characters\n",
    "* Use the model the estimate the probability that each character is a villain (let's call this *villainness*). You can use the `.predict_proba` method on the model to get probability estimates rather than class assignments.\n",
    "* **Visualize the \"heroness\" distribution for all ambiguous characters**. Comment on the result."
   ]
  },
  {
   "cell_type": "markdown",
   "metadata": {},
   "source": [
    "### Answer to 4.4.1:"
   ]
  },
  {
   "cell_type": "code",
   "execution_count": 12,
   "metadata": {},
   "outputs": [
    {
     "data": {
      "text/plain": [
       "BernoulliNB(alpha=1.0, binarize=0.0, class_prior=None, fit_prior=True)"
      ]
     },
     "execution_count": 12,
     "metadata": {},
     "output_type": "execute_result"
    }
   ],
   "source": [
    "model.fit(X_ta, target_values) # retraining model on whole dataset "
   ]
  },
  {
   "cell_type": "code",
   "execution_count": 13,
   "metadata": {},
   "outputs": [],
   "source": [
    "# creating a team alliance representation of the ambiguous characters\n",
    "\n",
    "def get_ambig_alliance_matrix():\n",
    "    targ_array = []\n",
    "    sort_vec = []\n",
    "    team_matrix = []\n",
    "    \n",
    "    for faction in [\"ambiguous\"]: # for each faction\n",
    "        for char in os.listdir(\"../data/%s\" % faction): # for each character in faction\n",
    "            char = char[:-4] # remove .txt file extension\n",
    "            \n",
    "            team_vec = get_teams_vector(char, verbose=False)\n",
    "            if sum(team_vec) != 0:\n",
    "                team_matrix.append(team_vec)\n",
    "                targ_array.append(char) # target array            \n",
    "            \n",
    "    # sort the matrix by character name\n",
    "    team_matrix = np.matrix(team_matrix)\n",
    "    team_matrix = team_matrix[np.argsort(targ_array, axis=0)]\n",
    "    \n",
    "    # sort target array\n",
    "    targ_array.sort()\n",
    "    \n",
    "    return targ_array, team_matrix, sort_vec"
   ]
  },
  {
   "cell_type": "code",
   "execution_count": 14,
   "metadata": {},
   "outputs": [],
   "source": [
    "# getting the ambiguous characters target matrix and the ambiguous character matrix\n",
    "ambig_target, ambig_matrix, sort_vec = get_ambig_alliance_matrix() "
   ]
  },
  {
   "cell_type": "code",
   "execution_count": 15,
   "metadata": {},
   "outputs": [],
   "source": [
    "ambig_mt = np.array(ambig_matrix)\n",
    "villain_prob = model.predict_proba(ambig_mt) # estimating the probability that each character is a villain \n",
    "\n",
    "heroness = []\n",
    "\n",
    "for i in range(len(villain_prob)):\n",
    "    heroness.append(villain_prob[i][0])"
   ]
  },
  {
   "cell_type": "code",
   "execution_count": 16,
   "metadata": {},
   "outputs": [
    {
     "data": {
      "image/png": "[encoded data removed]",
      "text/plain": [
       "<Figure size 864x432 with 1 Axes>"
      ]
     },
     "metadata": {
      "needs_background": "light"
     },
     "output_type": "display_data"
    }
   ],
   "source": [
    "plt.figure(figsize=(12,6))\n",
    "plt.hist(heroness) # visualizing the \"heroness\" distribution for all characters \n",
    "plt.xlabel(\"Probability\")\n",
    "plt.ylabel(\"Frequency\")\n",
    "plt.title(\"Distribution of Heroness for Ambiguous Characters\")\n",
    "plt.show()"
   ]
  },
  {
   "cell_type": "markdown",
   "metadata": {},
   "source": [
    "#### Comments:\n",
    "There are far more characters that have high probabilities for heroness meaning that many of these ambiguous characters aren't actually seen as ambiguous."
   ]
  },
  {
   "cell_type": "markdown",
   "metadata": {},
   "source": [
    "### Week 5"
   ]
  },
  {
   "cell_type": "markdown",
   "metadata": {
    "ExecuteTime": {
     "end_time": "2017-08-23T14:01:10.834257Z",
     "start_time": "2017-08-23T14:01:10.826472Z"
    }
   },
   "source": [
    ">**Ex. 5.1.3**: Print the maximum entropy path of a decision tree.\n",
    ">\n",
    ">1. Implement the following pseudocode and print the output:<br><br>\n",
    ">Step 1. Find `team` that gives lowest split entropy for `data`. Print `team`.<br>\n",
    ">Step 2. Split `data` on `team`, to produce `data0` and `data1`. Print the entropy of each, as well as their weighted avg. entropy.<br>\n",
    ">Step 3. Overwrite the `data` variable with either `data0` or `data1`, depending on which has the highest entropy.<br>\n",
    ">Step 4. Stop if there are less than 5 datapoints in `data`. Otherwise start over from 1.<br><br>\n",
    ">My output looks [like this](http://ulfaslak.com/computational_analysis_of_big_data/exer_figures/example_6.2.3.1.png) for the first five splits.<br><br>\n",
    ">\n",
    ">2. Comment on decision path your code takes: How splits are there? Do you notice anything interesting about the final splits? Why do we choose to stop splitting before `data` get smaller than 5?\n",
    ">3. Train a `sklearn.tree.DecisionTreeClassifier` classifier on the dataset. Initiate the classifier with `criterion='entropy'`. What are the most important features of this classifier? How does this line up with the order of the order of splits you just printed (a comment is fine)?"
   ]
  },
  {
   "cell_type": "markdown",
   "metadata": {},
   "source": [
    "### Week 6"
   ]
  },
  {
   "cell_type": "markdown",
   "metadata": {},
   "source": [
    "> **Ex. 6.1.1**: Go to the `NetworkX` project's [tutorial page](https://networkx.github.io/documentation/stable/tutorial.html). Read the first few sections about nodes, edges and attributes. Write an example below where you create a graph, `G`, and then:\n",
    "1. add some nodes and edges to,\n",
    "2. print its nodes and edges\n",
    "3. delete a node, and\n",
    "4. plot it."
   ]
  },
  {
   "cell_type": "markdown",
   "metadata": {},
   "source": [
    "> **Ex. 6.1.3**: Another very famous type of synthetic network is the Barabási–Albert (BA) network.\n",
    "1. Describe what a BA network is and how to create one.\n",
    "2. On the [`NetworkX` documentations site](https://networkx.github.io/documentation/networkx-2.2/reference/generators.html), find a method you can use for generating a BA network. Create one with $N=100$ nodes and number of new edges from each new node $m=2$.\n",
    "3. Plot the network\n",
    "4. Visualize the [degree distribution](https://en.wikipedia.org/wiki/Degree_distribution) of your newly created BA graph.\n",
    "5. Explain the main difference(s) you observe, when comparing to the ER network.\n",
    "6. Are there other measures we could have used to describe the ER and BA networks further?"
   ]
  },
  {
   "cell_type": "markdown",
   "metadata": {},
   "source": [
    "> **Ex: 6.2.2**: Create a `networkx.Graph` that represents each partnership between characters, as an edge. Print the number of nodes, edges and average degree of the resulting network."
   ]
  },
  {
   "cell_type": "markdown",
   "metadata": {},
   "source": [
    "> **Ex: 6.2.3**: Plot the degree distribution of your character network. What type of random network does it resemble?"
   ]
  },
  {
   "cell_type": "markdown",
   "metadata": {},
   "source": [
    "> **Ex: 6.2.7**: Let's make a nice plot of the network.I built a Python library called Netwulf (go `pip install netwulf`) that allows you to interactively plot networks in Python. Go ahead and produce a beautiful looking network using that! Comment on what you see."
   ]
  },
  {
   "cell_type": "code",
   "execution_count": null,
   "metadata": {},
   "outputs": [],
   "source": []
  }
 ],
 "metadata": {
  "kernelspec": {
   "display_name": "Python 3",
   "language": "python",
   "name": "python3"
  },
  "language_info": {
   "codemirror_mode": {
    "name": "ipython",
    "version": 3
   },
   "file_extension": ".py",
   "mimetype": "text/x-python",
   "name": "python",
   "nbconvert_exporter": "python",
   "pygments_lexer": "ipython3",
   "version": "3.7.4"
  },
  "toc": {
   "base_numbering": 1,
   "nav_menu": {},
   "number_sections": true,
   "sideBar": true,
   "skip_h1_title": false,
   "title_cell": "Table of Contents",
   "title_sidebar": "Contents",
   "toc_cell": false,
   "toc_position": {},
   "toc_section_display": true,
   "toc_window_display": false
  },
  "varInspector": {
   "cols": {
    "lenName": 16,
    "lenType": 16,
    "lenVar": 40
   },
   "kernels_config": {
    "python": {
     "delete_cmd_postfix": "",
     "delete_cmd_prefix": "del ",
     "library": "var_list.py",
     "varRefreshCmd": "print(var_dic_list())"
    },
    "r": {
     "delete_cmd_postfix": ") ",
     "delete_cmd_prefix": "rm(",
     "library": "var_list.r",
     "varRefreshCmd": "cat(var_dic_list()) "
    }
   },
   "types_to_exclude": [
    "module",
    "function",
    "builtin_function_or_method",
    "instance",
    "_Feature"
   ],
   "window_display": false
  }
 },
 "nbformat": 4,
 "nbformat_minor": 2
}
