{
 "cells": [
  {
   "cell_type": "markdown",
   "metadata": {},
   "source": [
    "# Week 3: Getting data—scraping and APIs."
   ]
  },
  {
   "cell_type": "markdown",
   "metadata": {
    "ExecuteTime": {
     "end_time": "2017-08-23T15:30:03.634114Z",
     "start_time": "2017-08-23T15:30:03.629294Z"
    }
   },
   "source": [
    "This week is about getting data from the big ol' Internet, with the Wikipedia as our guinea pig. The main task today is to retrieve the Wikipedia pages of **all Marvel characters** using the MediaWiki **API**. There are three parts to this exercise.\n",
    "\n",
    "* Learn the basics of how to retrieve data from Wiki sites using the MediaWiki API\n",
    "* Download all Marvel character Wikipedia articles\n",
    "* Explore the data\n",
    "\n",
    "The data you acquire today, you will be working with for the remainder of the course. Try to get as far as possible, structure the data nicely and write your code so that it makes sense to you in the coming weeks.\n",
    "\n",
    "Also, there's an **important practice** you should start getting used to—which matters when we grade assignments. \n",
    "1. Openly reflect on how you solve a problem. It can be code comments, or markup below/above the code cell, just as long as you share your thoughts. \n",
    "2. Comment on your results, discussing:\n",
    "    * Whether they make sense\n",
    "    * If they look somewhat as you expected, and if not, what the reasons for this difference may be\n",
    "    * What—interesting or not—insight they reveal about the given system you analyze\n",
    "    \n",
    "    *Note: of course you can't always say something profound about every little thing, so rest assured, I will only expect explanations in your assignments when *it makes sense* that there should be one.*\n",
    "\n",
    "**[Feedback](http://ulfaslak.com/vent)**"
   ]
  },
  {
   "cell_type": "markdown",
   "metadata": {},
   "source": [
    "## Exercises"
   ]
  },
  {
   "cell_type": "markdown",
   "metadata": {},
   "source": [
    "**Why use an API?** You could just go ahead and scrape the HTML from a Wikipedia page as simple as:\n",
    "\n",
    "    import requests as rq\n",
    "    rq.get(\"https://en.wikipedia.org/wiki/Batman\").text\n",
    "    \n",
    "Well... to navigate data in XML format is not always easy. Therefore, MediaWiki offers its users direct use of its API. To load the MediaWiki markup using the API, one would do something like:\n",
    "\n",
    "    rq.get(\"https://en.wikipedia.org/w/api.php?format=json&action=query&titles=Batman&prop=revisions&rvprop=content\").json()\n",
    "    \n",
    "This returns a JSON object inside which you can find all sorts of information about the page, including the latest revision of the Batman page markup."
   ]
  },
  {
   "cell_type": "markdown",
   "metadata": {},
   "source": [
    "**Helpful code to display JSON object as a tree**"
   ]
  },
  {
   "cell_type": "code",
   "execution_count": 4,
   "metadata": {
    "ExecuteTime": {
     "end_time": "2019-01-17T14:08:52.193331Z",
     "start_time": "2019-01-17T14:08:51.527889Z"
    },
    "run_control": {
     "frozen": false,
     "read_only": false
    }
   },
   "outputs": [
    {
     "name": "stdout",
     "output_type": "stream",
     "text": [
      "batchcomplete : str - 0\n",
      "warnings \n",
      "    main \n",
      "        * : str - 267\n",
      "    revisions \n",
      "        * : str - 163\n",
      "query \n",
      "    pages \n",
      "        4335 \n",
      "            pageid : int - 4\n",
      "            ns : int - 1\n",
      "            title : str - 6\n",
      "            revisions : list - 146962\n"
     ]
    }
   ],
   "source": [
    "def print_json_tree(d, indent=0):\n",
    "    \"\"\"Print tree of keys in JSON object.\n",
    "    \n",
    "    Prints the different levels of nested keys in a JSON object. When there\n",
    "    are no more dictionaries to key into, prints objects type and byte-size.\n",
    "\n",
    "    Input\n",
    "    -----\n",
    "    d : dict\n",
    "    \"\"\"\n",
    "    for key, value in d.items():\n",
    "        print('    ' * indent + str(key), end=' ')\n",
    "        if isinstance(value, dict):\n",
    "            print(); print_json_tree(value, indent+1)\n",
    "        else:\n",
    "            print(\":\", str(type(d[key])).split(\"'\")[1], \"-\", str(len(str(d[key]))))\n",
    "            \n",
    "# Example\n",
    "import requests as rq\n",
    "data = rq.get(\"https://en.wikipedia.org/w/api.php?format=json&action=query&titles=Batman&prop=revisions&rvprop=content\").json()\n",
    "print_json_tree(data)"
   ]
  },
  {
   "cell_type": "markdown",
   "metadata": {},
   "source": [
    "### Part 0: Learn to access Wikipedia data with Python"
   ]
  },
  {
   "cell_type": "markdown",
   "metadata": {},
   "source": [
    "Figure out how Wikipedia markup works. You'll need to know a bit about formatting of MediaWiki pages so that you can parse the markup that you retrieve from wikipedia. See http://www.mediawiki.org/wiki/Help:Formatting. In particular, look into how links work and how tables work and make sure you can answer the following questions."
   ]
  },
  {
   "cell_type": "markdown",
   "metadata": {},
   "source": [
    ">**Ex. 3.0.1**: How do you link to another Wikipedia page from within a Wikipedia-page, using the wikimedia markup? Write down a simple example that links to a specific section in another page."
   ]
  },
  {
   "cell_type": "code",
   "execution_count": null,
   "metadata": {},
   "outputs": [],
   "source": [
    "[[Computer#Specific section]]"
   ]
  },
  {
   "cell_type": "markdown",
   "metadata": {},
   "source": [
    "> **Ex. 3.0.2**: What is the MediaWiki markup to create a simple table like the one below?\n",
    "\n",
    ">| True Positive  | False Positive |\n",
    "| -------------- |:--------------:|\n",
    "| False Negative | True Negative  |"
   ]
  },
  {
   "cell_type": "markdown",
   "metadata": {},
   "source": [
    "{| class=\"wikitable\"\n",
    "!True Positive\n",
    "!False Positive\n",
    "|-\n",
    "|False Negative  \n",
    "|True Negative\n",
    "|}"
   ]
  },
  {
   "cell_type": "markdown",
   "metadata": {},
   "source": [
    "> **Ex. 3.0.3**: Figure out how to download pages from Wikipedia. Familiarize yourself with [the API](http://www.mediawiki.org/wiki/API:Main_page) (there's a nice little [tutorial](https://www.mediawiki.org/wiki/API:Tutorial)) and learn how to extract the markup. The API query that returns the markup of the Batman page is:\n",
    "    \n",
    ">`api.php?format=json&action=query&titles=Batman&prop=revisions&rvprop=content`\n",
    "\n",
    ">1. Explain the structure of this query. What are the parameters and arguments and what do they mean? What happens if you remove `rvprop=content`?\n",
    "2. Download the Batman page data from the API. Extract the markup from the JSON object and save it to a file called \"batman.txt\"."
   ]
  },
  {
   "cell_type": "markdown",
   "metadata": {},
   "source": [
    "1:\n",
    "- `format=json` requests the output to be in json format. some other formats include `jsonfm, xml, xmlfm`. \n",
    "- `action=query` specifies that this is a query. \n",
    "- `titles=Batman` specifies that we are querying the title `Batman`. \n",
    "- If we want several titles, we can separate values with a pipe.\n",
    "- `prop=revisions` means we want to request revision information. \n",
    "- `rvprop=content` specifies that we want the content of each revision slot.\n",
    "\n",
    "2:\n"
   ]
  },
  {
   "cell_type": "code",
   "execution_count": 26,
   "metadata": {},
   "outputs": [],
   "source": [
    "# extract the markup\n",
    "markup = data['query']['pages']['4335']['revisions'][0]['*']\n",
    "\n",
    "# save to file \"batman.txt\"\n",
    "\n",
    "with open('batman.txt', 'w') as f:\n",
    "    f.write(markup)"
   ]
  },
  {
   "cell_type": "markdown",
   "metadata": {},
   "source": [
    "### Part 1: Get data (main part)"
   ]
  },
  {
   "cell_type": "markdown",
   "metadata": {},
   "source": [
    "For a good part of this course we will be working with data from Wikipedia. Today, your objective is to crawl a large dataset with good and bad characters from the Marvel characters."
   ]
  },
  {
   "cell_type": "markdown",
   "metadata": {
    "ExecuteTime": {
     "end_time": "2017-08-23T14:01:10.834257Z",
     "start_time": "2017-08-23T14:01:10.826472Z"
    }
   },
   "source": [
    ">**Ex. 3.1.1**: From the Wikipedia API, get a list of all Marvel superheroes and another list of all Marvel supervillains. Use 'Category:Marvel_Comics_supervillains' and 'Category:Marvel_Comics_superheroes' to get the characters in each category.\n",
    "1. How many superheroes are there? How many supervillains?\n",
    "2. How many characters are both heroes and villains? What is the Jaccard similarity between the two groups?\n",
    "\n",
    ">*Hint: Google something like \"get list all pages in category wikimedia api\" if you're struggling with the query.*"
   ]
  },
  {
   "cell_type": "code",
   "execution_count": 88,
   "metadata": {},
   "outputs": [
    {
     "name": "stdout",
     "output_type": "stream",
     "text": [
      "there are 1098 supervillains\n",
      "there are 851 superheroes\n",
      "the jaccard index of these two sets is 0.084585\n"
     ]
    }
   ],
   "source": [
    "def grab_supervillains():\n",
    "    supervillain_dict = {}\n",
    "    gcm_continue = ''\n",
    "    query = 'https://en.wikipedia.org/w/api.php?action=query&format=json&generator=categorymembers&gcmtitle=Category:Marvel_Comics_supervillains&gcmlimit=max' \n",
    "\n",
    "    while True:\n",
    "        full_query = query + '&gcmcontinue=' + gcm_continue if gcm_continue!='' else query\n",
    "#         print(full_query)    \n",
    "\n",
    "        villains_data = rq.get(full_query).json()\n",
    "\n",
    "        #update the dict\n",
    "        supervillain_dict.update(villains_data['query']['pages'])\n",
    "\n",
    "#         print(len(supervillain_dict))\n",
    "\n",
    "#         print(gcm_continue)\n",
    "\n",
    "        # update gcm_continue key\n",
    "        if 'continue' not in villains_data:\n",
    "            break\n",
    "        else:\n",
    "            gcm_continue = villains_data['continue']['gcmcontinue']\n",
    "            \n",
    "    return supervillain_dict\n",
    "\n",
    "def grab_superheroes():\n",
    "    superhero_dict = {}\n",
    "    gcm_continue = ''\n",
    "    query = 'https://en.wikipedia.org/w/api.php?action=query&format=json&generator=categorymembers&gcmtitle=Category:Marvel_Comics_superheroes&gcmlimit=max'\n",
    "\n",
    "    while True:\n",
    "        full_query = query + '&gcmcontinue=' + gcm_continue if gcm_continue!='' else query\n",
    "#         print(full_query)    \n",
    "\n",
    "        heroes_data = rq.get(full_query).json()\n",
    "\n",
    "        #update the dict\n",
    "        superhero_dict.update(heroes_data['query']['pages'])\n",
    "\n",
    "#         print(len(superhero_dict))\n",
    "\n",
    "#         print(gcm_continue)\n",
    "\n",
    "        # update gcm_continue key\n",
    "        if 'continue' not in heroes_data:\n",
    "            break\n",
    "        else:\n",
    "            gcm_continue = heroes_data['continue']['gcmcontinue']\n",
    "            \n",
    "    return superhero_dict\n",
    "\n",
    "supervillains = grab_supervillains()\n",
    "superheroes = grab_superheroes()\n",
    "\n",
    "print('there are %d supervillains' % len(supervillains))\n",
    "print('there are %d superheroes' % len(superheroes))\n",
    "\n",
    "villains_set = set(supervillains.keys())\n",
    "heroes_set = set(superheroes.keys())\n",
    "intersect = villains_set & heroes_set\n",
    "union = villains_set.union(heroes_set)\n",
    "\n",
    "jaccard_index = len(intersect) / len(union)\n",
    "\n",
    "print('the jaccard index of these two sets is %f' % jaccard_index)"
   ]
  },
  {
   "cell_type": "markdown",
   "metadata": {
    "ExecuteTime": {
     "end_time": "2017-08-23T14:01:10.834257Z",
     "start_time": "2017-08-23T14:01:10.826472Z"
    }
   },
   "source": [
    ">**Ex. 3.1.2**: Using this list you now want to download all data you can about each character. However, because this is potentially Big Data, you cannot store it your computer's memory. Therefore, you have to store it in your harddrive somehow. \n",
    "* Create three folders on your computer, one for *heroes*, one for *villains*, and one for *ambiguous*.\n",
    "* For each character, download the markup on their pages and save in a new file in the corresponding hero/villain/ambiguous folder.\n",
    "\n",
    ">*Hint: Some of the characters have funky names. The first problem you may encounter is problems with encoding. To solve that you can call `.encode('utf-8')` on your markup string. Another problem you may encounter is that characters have a slash in their names. This, you should just replace with some other meaningful character.*"
   ]
  },
  {
   "cell_type": "code",
   "execution_count": 54,
   "metadata": {},
   "outputs": [],
   "source": [
    "# ! mkdir heroes villains ambiguous"
   ]
  },
  {
   "cell_type": "code",
   "execution_count": 121,
   "metadata": {
    "scrolled": false
   },
   "outputs": [
    {
     "name": "stdout",
     "output_type": "stream",
     "text": [
      "there are 946 true villains\n",
      "there are 699 true heroes\n",
      "there are 152 ambiguous ppl\n",
      "downloading villains..................................................................................................................................................................................................................................................................................................................................................................................................................................................................................................................................................................................................................................................................................................................................................................................................................................................................................................................................................................................##### FINISHED DOWNLOADING VILLAINS #####\n",
      "downloading heroes...........................................................................................................................................................................................................................................................................................................................................................................................................................................................................................................................................................................................................................................................................................................................##### FINISHED DOWNLOADING HEROES #####\n",
      "downloading ambiguous characters........................................................................................................................................................##### FINISHED DOWNLOADING AMBIGUOUS PEEPS #####\n"
     ]
    }
   ],
   "source": [
    "import re\n",
    "\n",
    "true_villains = villains_set - intersect\n",
    "true_heroes = heroes_set - intersect\n",
    "ambiguous = intersect\n",
    "\n",
    "print('there are %d true villains' % len(true_villains))\n",
    "print('there are %d true heroes' % len(true_heroes))\n",
    "print('there are %d ambiguous ppl' % len(ambiguous))\n",
    "\n",
    "def download_villains():\n",
    "    print('downloading villains', end='', flush=True)\n",
    "    for villain in true_villains:\n",
    "        query = 'https://www.wikipedia.org/w/api.php?action=query&format=json&prop=revisions&rvprop=content&pageids=' + villain\n",
    "\n",
    "        data = rq.get(query).json()\n",
    "        markup = data['query']['pages'][str(villain)]['revisions'][0]['*']\n",
    "        title = re.sub('/','_',data['query']['pages'][str(villain)]['title'])\n",
    "\n",
    "        with open('villains/' + title + '.txt', 'w') as f:\n",
    "            f.write(markup)\n",
    "            \n",
    "        print('.', end='', flush=True)\n",
    "    \n",
    "    print('##### FINISHED DOWNLOADING VILLAINS #####')\n",
    "        \n",
    "def download_heroes():\n",
    "    print('downloading heroes', end='', flush=True)\n",
    "    for hero in true_heroes:\n",
    "        query = 'https://www.wikipedia.org/w/api.php?action=query&format=json&prop=revisions&rvprop=content&pageids=' + hero\n",
    "\n",
    "        data = rq.get(query).json()\n",
    "        markup = data['query']['pages'][str(hero)]['revisions'][0]['*']\n",
    "        title = re.sub('/','_',data['query']['pages'][str(hero)]['title'])\n",
    "        \n",
    "        with open('heroes/' + title + '.txt', 'w') as f:\n",
    "            f.write(markup)\n",
    "            \n",
    "        print('.', end='', flush=True)\n",
    "    \n",
    "    print('##### FINISHED DOWNLOADING HEROES #####')\n",
    "    \n",
    "def download_ambiguous_peeps():\n",
    "    print('downloading ambiguous characters', end='', flush=True)\n",
    "    for ambiguous_peep in ambiguous:\n",
    "        query = 'https://www.wikipedia.org/w/api.php?action=query&format=json&prop=revisions&rvprop=content&pageids=' + ambiguous_peep\n",
    "        \n",
    "        data = rq.get(query).json()\n",
    "        markup = data['query']['pages'][str(ambiguous_peep)]['revisions'][0]['*']\n",
    "        title = re.sub('/','_',data['query']['pages'][str(ambiguous_peep)]['title'])\n",
    "\n",
    "        with open('ambiguous/' + title + '.txt', 'w') as f:\n",
    "            f.write(markup)\n",
    "            \n",
    "        print('.', end='', flush=True)\n",
    "    \n",
    "    print('##### FINISHED DOWNLOADING AMBIGUOUS PEEPS #####')\n",
    "        \n",
    "download_villains()\n",
    "download_heroes()\n",
    "download_ambiguous_peeps()"
   ]
  },
  {
   "cell_type": "markdown",
   "metadata": {},
   "source": [
    "### Part 2: Explore data"
   ]
  },
  {
   "cell_type": "markdown",
   "metadata": {},
   "source": [
    "#### Page lengths"
   ]
  },
  {
   "cell_type": "markdown",
   "metadata": {},
   "source": [
    ">**Ex. 3.2.1**: Extract the length of the page of each character, and plot the distribution of this variable for each class (heroes/villains/ambiguous). Can you say anything about the popularity of characters in the Marvel universe based on your visualization?\n",
    "\n",
    ">*Hint: The simplest thing is to make a probability mass function, i.e. a normalized histogram. Use `plt.hist` on a list of page lengths, with the argument `density=True`. Other distribution plots are fine too, though.*"
   ]
  },
  {
   "cell_type": "code",
   "execution_count": 136,
   "metadata": {},
   "outputs": [
    {
     "data": {
      "image/png": "[encoded data removed]",
      "text/plain": [
       "<Figure size 432x288 with 1 Axes>"
      ]
     },
     "metadata": {
      "needs_background": "light"
     },
     "output_type": "display_data"
    },
    {
     "data": {
      "image/png": "[encoded data removed]",
      "text/plain": [
       "<Figure size 432x288 with 1 Axes>"
      ]
     },
     "metadata": {
      "needs_background": "light"
     },
     "output_type": "display_data"
    },
    {
     "data": {
      "image/png": "[encoded data removed]",
      "text/plain": [
       "<Figure size 432x288 with 1 Axes>"
      ]
     },
     "metadata": {
      "needs_background": "light"
     },
     "output_type": "display_data"
    }
   ],
   "source": [
    "# villains\n",
    "from os import listdir, getcwd\n",
    "from matplotlib import pyplot as plt\n",
    "\n",
    "def extract_char(path):\n",
    "    with open(path, 'r') as f:\n",
    "        return len(f.read())\n",
    "        \n",
    "def plot_villains():\n",
    "    lengths = []\n",
    "    for villain in listdir('villains/'):\n",
    "        length = extract_char('villains/' + villain)\n",
    "        lengths.append(length)\n",
    "    \n",
    "    # plot\n",
    "    plt.figure()\n",
    "    plt.title('Page length distribution of villains', fontsize=16)\n",
    "    plt.ylabel('Density', fontsize=14)\n",
    "    plt.xlabel('Page length', fontsize=14)\n",
    "    plt.hist(lengths, density=True)\n",
    "    plt.show()\n",
    "    \n",
    "    return lengths\n",
    "  \n",
    "        \n",
    "def plot_heroes():\n",
    "    lengths = []\n",
    "    for hero in listdir('heroes/'):\n",
    "        length = extract_char('heroes/' + hero)\n",
    "        lengths.append(length)\n",
    "    \n",
    "    # plot\n",
    "    plt.figure()\n",
    "    plt.title('Page length distribution of heroes', fontsize=16)\n",
    "    plt.ylabel('Density', fontsize=14)\n",
    "    plt.xlabel('Page length', fontsize=14)\n",
    "    plt.hist(lengths, density=True)\n",
    "    plt.show()\n",
    "    \n",
    "    return lengths\n",
    "    \n",
    "            \n",
    "def plot_ambiguous():\n",
    "    lengths = []\n",
    "    for ambi in listdir('ambiguous/'):\n",
    "        length = extract_char('ambiguous/' + ambi)\n",
    "        lengths.append(length)\n",
    "    \n",
    "    # plot\n",
    "    plt.figure()\n",
    "    plt.title('Page length distribution of ambiguous characters', fontsize=16)\n",
    "    plt.ylabel('Density', fontsize=14)\n",
    "    plt.xlabel('Page length', fontsize=14)\n",
    "    plt.hist(lengths, density=True)\n",
    "    plt.show()\n",
    "    \n",
    "    return lengths\n",
    "        \n",
    "\n",
    "villain_lengths = plot_villains()\n",
    "hero_lengths = plot_heroes()\n",
    "ambiguous_lengths = plot_ambiguous()"
   ]
  },
  {
   "cell_type": "markdown",
   "metadata": {},
   "source": [
    ">**Ex. 3.2.2**: Find the 10 characters from each class with the longest Wikipedia pages. Visualize their page lengths with bar charts. Comment on the result."
   ]
  },
  {
   "cell_type": "code",
   "execution_count": 179,
   "metadata": {},
   "outputs": [
    {
     "name": "stdout",
     "output_type": "stream",
     "text": [
      "the top 10 villains with the longest wikipedia pages are: \n",
      "\t Doctor Octopus\n",
      "\t Norman Osborn\n",
      "\t Loki (comics)\n",
      "\t Vulture (Marvel Comics)\n",
      "\t Lizard (comics)\n",
      "\t Electro (Marvel Comics)\n",
      "\t Venom (Marvel Comics character)\n",
      "\t Doctor Doom\n",
      "\t Red Skull\n",
      "\t Thanos\n",
      "the top 10 heroes with the longest wikipedia pages are: \n",
      "\t Spider-Man\n",
      "\t Namor\n",
      "\t Psylocke\n",
      "\t Iron Man\n",
      "\t Black Panther (comics)\n",
      "\t Captain America\n",
      "\t Hulk\n",
      "\t Cyclops (Marvel Comics)\n",
      "\t Thor (Marvel Comics)\n",
      "\t Wolverine (character)\n",
      "the top 10 ambiguous characters with the longest wikipedia pages are: \n",
      "\t Eddie Brock\n",
      "\t Phoenix Force (comics)\n",
      "\t Sabretooth (comics)\n",
      "\t Emma Frost\n",
      "\t Rogue (comics)\n",
      "\t Ben Reilly\n",
      "\t Magneto (comics)\n",
      "\t Sandman (Marvel Comics)\n",
      "\t Mystique (comics)\n",
      "\t Harry Osborn\n"
     ]
    },
    {
     "data": {
      "image/png": "[encoded data removed]",
      "text/plain": [
       "<Figure size 432x288 with 1 Axes>"
      ]
     },
     "metadata": {
      "needs_background": "light"
     },
     "output_type": "display_data"
    }
   ],
   "source": [
    "import numpy as np\n",
    "\n",
    "def find_lengths(folder):\n",
    "    lengths = []\n",
    "    for character in listdir(folder + '/'):\n",
    "        length = extract_char(folder + '/' + character)\n",
    "        lengths.append([character, length])\n",
    "    \n",
    "    return lengths\n",
    "\n",
    "def find_top_ten_villains():\n",
    "    lengths = find_lengths('villains')\n",
    "    lengths = np.array(lengths, dtype=object)    \n",
    "    \n",
    "    # indices of sort\n",
    "    args = np.argsort(lengths[:,1], -1)[::-1]\n",
    "    \n",
    "    topten = lengths[args][:10]\n",
    "    \n",
    "    print('the top 10 villains with the longest wikipedia pages are: ')\n",
    "    for villain in topten[:,0]:\n",
    "        print('\\t %s' % re.sub('.txt','',villain))\n",
    "        \n",
    "    plt.figure()\n",
    "    plt.title('Top ten Marvel supervillain page lengths')\n",
    "    plt.hist(topten[:,1])\n",
    "    plt.show()\n",
    "    \n",
    "        \n",
    "def find_top_ten_heroes():\n",
    "    lengths = find_lengths('heroes')\n",
    "    lengths = np.array(lengths, dtype=object)    \n",
    "    \n",
    "    # indices of sort\n",
    "    args = np.argsort(lengths[:,1], -1)[::-1]\n",
    "    \n",
    "    topten = lengths[args][:10]\n",
    "    \n",
    "    print('the top 10 heroes with the longest wikipedia pages are: ')\n",
    "    for hero in topten[:,0]:\n",
    "        print('\\t %s' % re.sub('.txt','',hero))\n",
    "        \n",
    "                       \n",
    "def find_top_ten_ambiguous():\n",
    "    lengths = find_lengths('ambiguous')\n",
    "    lengths = np.array(lengths, dtype=object)    \n",
    "    \n",
    "    # indices of sort\n",
    "    args = np.argsort(lengths[:,1], -1)[::-1]\n",
    "    \n",
    "    topten = lengths[args][:10]\n",
    "    \n",
    "    print('the top 10 ambiguous characters with the longest wikipedia pages are: ')\n",
    "    for ambi in topten[:,0]:\n",
    "        print('\\t %s' % re.sub('.txt','',ambi))      \n",
    "\n",
    "find_top_ten_villains()\n",
    "find_top_ten_heroes()\n",
    "find_top_ten_ambiguous()"
   ]
  },
  {
   "cell_type": "markdown",
   "metadata": {},
   "source": [
    "#### Timeline"
   ]
  },
  {
   "cell_type": "markdown",
   "metadata": {},
   "source": [
    ">**Ex. 3.2.3**: We are interested in knowing if there is a time-trend in the debut of characters.\n",
    "* Extract into three lists, debut years of heroes, villains, and ambiguous characters.\n",
    "* Do all pages have a debut year? Do some have multiple? How do you handle these inconsistencies?\n",
    "* For each class, visualize the amount of characters introduced over time. You choose how you want to visualize this data, but please comment on your choice. Also comment on the outcome of your analysis.\n",
    "\n",
    ">*Hint: The debut year is given on the debut row in the info table of a character's Wiki-page. There are many ways that you can extract this variable. You should try to have a go at it yourself, but if you are short on time, you can use this horribly ugly regular expression code:*\n",
    "\n",
    ">*`re.findall(r\"\\d{4}\\)\", re.findall(r\"debut.+?\\n\", markup_text)[0])[0][:-1]`*"
   ]
  },
  {
   "cell_type": "markdown",
   "metadata": {},
   "source": [
    "#### Alliances"
   ]
  },
  {
   "cell_type": "markdown",
   "metadata": {},
   "source": [
    ">**Ex. 3.2.4**: In this exercise you want to find out what the biggest alliances in the Marvel universe are. The data you need for doing this is in the *alliances*-field of the markup of each character. Below I suggest steps you can take to solve the problem if you get stuck.\n",
    "* Write a regex that extracts the *alliances*-field of a character's markup.\n",
    "* Write a regex that extracts each team from the *alliance*-field.\n",
    "* Count the number of members for each team (hint: use a `defaultdict`).\n",
    "* Inspect your team names. Are there any that result from inconsistencies in the information on the pages? How do you deal with this?\n",
    "* **Print the 10 largest alliances and their number of members.**"
   ]
  }
 ],
 "metadata": {
  "kernelspec": {
   "display_name": "Python 3",
   "language": "python",
   "name": "python3"
  },
  "language_info": {
   "codemirror_mode": {
    "name": "ipython",
    "version": 3
   },
   "file_extension": ".py",
   "mimetype": "text/x-python",
   "name": "python",
   "nbconvert_exporter": "python",
   "pygments_lexer": "ipython3",
   "version": "3.7.3"
  },
  "nav_menu": {},
  "toc": {
   "base_numbering": 1,
   "nav_menu": {},
   "number_sections": false,
   "sideBar": true,
   "skip_h1_title": false,
   "title_cell": "Table of Contents",
   "title_sidebar": "Contents",
   "toc_cell": false,
   "toc_position": {},
   "toc_section_display": "block",
   "toc_window_display": true
  },
  "varInspector": {
   "cols": {
    "lenName": 16,
    "lenType": 16,
    "lenVar": 40
   },
   "kernels_config": {
    "python": {
     "delete_cmd_postfix": "",
     "delete_cmd_prefix": "del ",
     "library": "var_list.py",
     "varRefreshCmd": "print(var_dic_list())"
    },
    "r": {
     "delete_cmd_postfix": ") ",
     "delete_cmd_prefix": "rm(",
     "library": "var_list.r",
     "varRefreshCmd": "cat(var_dic_list()) "
    }
   },
   "types_to_exclude": [
    "module",
    "function",
    "builtin_function_or_method",
    "instance",
    "_Feature"
   ],
   "window_display": false
  }
 },
 "nbformat": 4,
 "nbformat_minor": 2
}
